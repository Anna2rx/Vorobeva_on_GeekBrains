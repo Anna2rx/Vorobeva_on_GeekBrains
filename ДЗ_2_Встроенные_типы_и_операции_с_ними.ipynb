{
  "nbformat": 4,
  "nbformat_minor": 0,
  "metadata": {
    "colab": {
      "name": "ДЗ_2_Встроенные_типы_и_операции_с_ними.ipynb",
      "provenance": [],
      "collapsed_sections": [],
      "authorship_tag": "ABX9TyM9eZezmhYkJxck3fWWQHOR",
      "include_colab_link": true
    },
    "kernelspec": {
      "name": "python3",
      "display_name": "Python 3"
    },
    "language_info": {
      "name": "python"
    }
  },
  "cells": [
    {
      "cell_type": "markdown",
      "metadata": {
        "id": "view-in-github",
        "colab_type": "text"
      },
      "source": [
        "<a href=\"https://colab.research.google.com/github/Anna2rx/Vorobeva_on_GeekBrains/blob/main/%D0%94%D0%97_2_%D0%92%D1%81%D1%82%D1%80%D0%BE%D0%B5%D0%BD%D0%BD%D1%8B%D0%B5_%D1%82%D0%B8%D0%BF%D1%8B_%D0%B8_%D0%BE%D0%BF%D0%B5%D1%80%D0%B0%D1%86%D0%B8%D0%B8_%D1%81_%D0%BD%D0%B8%D0%BC%D0%B8.ipynb\" target=\"_parent\"><img src=\"https://colab.research.google.com/assets/colab-badge.svg\" alt=\"Open In Colab\"/></a>"
      ]
    },
    {
      "cell_type": "markdown",
      "metadata": {
        "id": "1vYr7C9eRxTV"
      },
      "source": [
        "1. Создать список и заполнить его элементами различных типов данных. Реализовать скрипт проверки типа данных каждого элемента. Использовать функцию type() для проверки типа. Элементы списка можно не запрашивать у пользователя, а указать явно, в программе."
      ]
    },
    {
      "cell_type": "code",
      "metadata": {
        "colab": {
          "base_uri": "https://localhost:8080/"
        },
        "id": "-MEOrOjTRrwz",
        "outputId": "6fee7abe-c953-44b9-9643-1934339ee0ba"
      },
      "source": [
        "spisok = list() # Создаем пустой список\n",
        "spisok.extend([2, 'text', 456, 45.3, None, True]) # заполняем его элементами различных типов данных\n",
        "for el in spisok: # через цикл фор ин реализовываем скрипт проверки типа данных каждого элемента\n",
        "    print(type(el)) # используем функцию type() для проверки типа"
      ],
      "execution_count": null,
      "outputs": [
        {
          "output_type": "stream",
          "name": "stdout",
          "text": [
            "<class 'int'>\n",
            "<class 'str'>\n",
            "<class 'int'>\n",
            "<class 'float'>\n",
            "<class 'NoneType'>\n",
            "<class 'bool'>\n"
          ]
        }
      ]
    },
    {
      "cell_type": "markdown",
      "metadata": {
        "id": "C0YQ326wXwJ8"
      },
      "source": [
        "2. Для списка реализовать обмен значений соседних элементов, т.е. Значениями обмениваются элементы с индексами 0 и 1, 2 и 3 и т.д. При нечетном количестве элементов последний сохранить на своем месте. Для заполнения списка элементов необходимо использовать функцию input()."
      ]
    },
    {
      "cell_type": "code",
      "metadata": {
        "colab": {
          "base_uri": "https://localhost:8080/"
        },
        "id": "UieaNZLKdS8k",
        "outputId": "66b23de7-3964-4200-ae37-05a18a15bc81"
      },
      "source": [
        "spisok_1 = list(input(\"Введите элементы списка: \"))\n",
        "j = 0\n",
        "if len(spisok_1)%2==0:\n",
        "    for i in range(int(len(spisok_1)/2)):\n",
        "        spisok_1[j],spisok_1[j+1] = spisok_1[j+1], spisok_1[j]\n",
        "        j +=2\n",
        "else:\n",
        "    for i in range(int((len(spisok_1)/2)-0.5)):\n",
        "        spisok_1[j],spisok_1[j+1] = spisok_1[j+1], spisok_1[j]\n",
        "        j +=2\n",
        "print(spisok_1)"
      ],
      "execution_count": null,
      "outputs": [
        {
          "output_type": "stream",
          "name": "stdout",
          "text": [
            "Введите элементы списка: 12345\n",
            "['2', '1', '4', '3', '5']\n"
          ]
        }
      ]
    },
    {
      "cell_type": "markdown",
      "metadata": {
        "id": "NczNk9dEiE8F"
      },
      "source": [
        "3. Пользователь вводит месяц в виде целого числа от 1 до 12. Сообщить к какому времени года относится месяц (зима, весна, лето, осень). Напишите решения через list и через dict."
      ]
    },
    {
      "cell_type": "code",
      "metadata": {
        "colab": {
          "base_uri": "https://localhost:8080/"
        },
        "id": "HuDa1r9DiLPy",
        "outputId": "94f1a96f-2bc2-4da4-a18c-fb2d019c3196"
      },
      "source": [
        "# решение через list\n",
        "seasons = ['зима', 'весна', 'лето', 'осень']\n",
        "season = 0\n",
        "user_month = int(input('Введите месяц в виде целого числа от 1 до 12: '))\n",
        "if user_month == 1 or user_month == 2 or user_month == 12:\n",
        "    season = seasons[0]\n",
        "elif user_month == 3 or user_month == 4 or user_month == 5:\n",
        "    season = seasons[1]   \n",
        "elif user_month == 6 or user_month == 7 or user_month == 8:\n",
        "    season = seasons[2]\n",
        "elif user_month == 9 or user_month == 10 or user_month == 11:\n",
        "    season = seasons[3]\n",
        "else:\n",
        "  season = 'Ошибка'\n",
        "print(season)"
      ],
      "execution_count": null,
      "outputs": [
        {
          "output_type": "stream",
          "name": "stdout",
          "text": [
            "Введите месяц в виде целого числа от 1 до 12: 9\n",
            "осень\n"
          ]
        }
      ]
    },
    {
      "cell_type": "code",
      "metadata": {
        "colab": {
          "base_uri": "https://localhost:8080/"
        },
        "id": "bjqmI_lOusiD",
        "outputId": "cbfe8395-e8c9-4abe-a628-fd5ae916717b"
      },
      "source": [
        "# решение через dict\n",
        "seasons_1 = {0:'зима', 1:'весна', 2:'лето', 3:'осень', 4:'зима'}\n",
        "user_month_1 = int(input('Введите месяц в виде целого числа от 1 до 12: '))\n",
        "if 1 <= user_month_1 <= 12: print(seasons_1[user_month_1//3])\n",
        "else: print('error')"
      ],
      "execution_count": null,
      "outputs": [
        {
          "output_type": "stream",
          "name": "stdout",
          "text": [
            "Введите месяц в виде целого числа от 1 до 12: 9\n",
            "осень\n"
          ]
        }
      ]
    },
    {
      "cell_type": "markdown",
      "metadata": {
        "id": "ZRKcB3xxunEf"
      },
      "source": [
        "4. Пользователь вводит строку из нескольких слов, разделённых пробелами. Вывести каждое слово с новой строки. Строки необходимо пронумеровать. Если в слово длинное, выводить только первые 10 букв в слове."
      ]
    },
    {
      "cell_type": "code",
      "metadata": {
        "colab": {
          "base_uri": "https://localhost:8080/"
        },
        "id": "clG4oZJSupnc",
        "outputId": "bb769309-f185-4c90-e3a2-2e9d5beef254"
      },
      "source": [
        "string = input().split()\n",
        "n = 1\n",
        "for word in string:\n",
        "    print(n, word[:10])\n",
        "    n+=1"
      ],
      "execution_count": null,
      "outputs": [
        {
          "output_type": "stream",
          "name": "stdout",
          "text": [
            "sfh fgkj qwertyuiolkjhgfdsdfghjk\n",
            "1 sfh\n",
            "2 fgkj\n",
            "3 qwertyuiol\n"
          ]
        }
      ]
    },
    {
      "cell_type": "markdown",
      "metadata": {
        "id": "-w58PZmX7X-L"
      },
      "source": [
        "5. Реализовать структуру «Рейтинг», представляющую собой не возрастающий набор натуральных чисел. У пользователя необходимо запрашивать новый элемент рейтинга. Если в рейтинге существуют элементы с одинаковыми значениями, то новый элемент с тем же значением должен разместиться после них.\n",
        "Подсказка. Например, набор натуральных чисел: 7, 5, 3, 3, 2.\n",
        "Пользователь ввел число 3. Результат: 7, 5, 3, 3, 3, 2.\n",
        "Пользователь ввел число 8. Результат: 8, 7, 5, 3, 3, 2.\n",
        "Пользователь ввел число 1. Результат: 7, 5, 3, 3, 2, 1.\n",
        "Набор натуральных чисел можно задать непосредственно в коде, например, my_list = [7, 5, 3, 3, 2]."
      ]
    },
    {
      "cell_type": "code",
      "metadata": {
        "colab": {
          "base_uri": "https://localhost:8080/"
        },
        "id": "46m_yAQH7Tz3",
        "outputId": "49889198-ccb3-43d2-9167-3d0966a8ddc1"
      },
      "source": [
        "my_list = [7, 5, 3, 3, 2]\n",
        "new_number = int(input('Введите новый элиент рейтинга: '))\n",
        "my_list.append(new_number)\n",
        "my_list.sort(reverse=True)\n",
        "my_list"
      ],
      "execution_count": null,
      "outputs": [
        {
          "name": "stdout",
          "output_type": "stream",
          "text": [
            "Введите новый элиент рейтинга: 1\n"
          ]
        },
        {
          "output_type": "execute_result",
          "data": {
            "text/plain": [
              "[7, 5, 3, 3, 2, 1]"
            ]
          },
          "metadata": {},
          "execution_count": 111
        }
      ]
    },
    {
      "cell_type": "markdown",
      "metadata": {
        "id": "AnZFZw5x9FKc"
      },
      "source": [
        "6. * Реализовать структуру данных «Товары». Она должна представлять собой список кортежей. Каждый кортеж хранит информацию об отдельном товаре. В кортеже должно быть два элемента — номер товара и словарь с параметрами (характеристиками товара: название, цена, количество, единица измерения). Структуру нужно сформировать программно, т.е. запрашивать все данные у пользователя.\n",
        "Пример готовой структуры:\n",
        "[\n",
        "(1, {“название”: “компьютер”, “цена”: 20000, “количество”: 5, “eд”: “шт.”}),\n",
        "(2, {“название”: “принтер”, “цена”: 6000, “количество”: 2, “eд”: “шт.”}), \n",
        "(3, {“название”: “сканер”, “цена”: 2000, “количество”: 7, “eд”: “шт.”})\n",
        "]\n",
        "Необходимо собрать аналитику о товарах. Реализовать словарь, в котором каждый ключ — характеристика товара, например название, а значение — список значений-характеристик, например список названий товаров.\n",
        "Пример:\n",
        "{\n",
        "“название”: [“компьютер”, “принтер”, “сканер”],\n",
        "“цена”: [20000, 6000, 2000],\n",
        "“количество”: [5, 2, 7],\n",
        "“ед”: [“шт.”]\n",
        "}\n",
        "\n"
      ]
    },
    {
      "cell_type": "code",
      "metadata": {
        "colab": {
          "base_uri": "https://localhost:8080/"
        },
        "id": "tssd_gWNA4HU",
        "outputId": "b9c8a8ac-8c25-4447-f80c-9ecbbd571a02"
      },
      "source": [
        "number = int(input('Сколько товаров Вы хотите ввести '))\n",
        "n = 1\n",
        "items = list()\n",
        "while n <= number:\n",
        "    name = input('Введите название ')\n",
        "    price = float(input('Введите цену '))\n",
        "    quantity = int(input('Введите количество '))\n",
        "    unit = input('Введите единицу измерения ')\n",
        "    sample = {'название': name, 'цена': price, 'количество': quantity, 'ед': unit}\n",
        "    item = (n, sample)\n",
        "    items.append(item)\n",
        "    n += 1\n",
        "print(*items, sep='\\n') \n"
      ],
      "execution_count": null,
      "outputs": [
        {
          "output_type": "stream",
          "name": "stdout",
          "text": [
            "Сколько товаров Вы хотите ввести 3\n",
            "Введите название принтер\n",
            "Введите цену 2000\n",
            "Введите количество 2\n",
            "Введите единицу измерения шт\n",
            "Введите название комп\n",
            "Введите цену 6000\n",
            "Введите количество 3\n",
            "Введите единицу измерения шт\n",
            "Введите название сканер\n",
            "Введите цену 3000\n",
            "Введите количество 1\n",
            "Введите единицу измерения шт\n",
            "(1, {'название': 'принтер', 'цена': 2000.0, 'количество': 2, 'ед': 'шт'})\n",
            "(2, {'название': 'комп', 'цена': 6000.0, 'количество': 3, 'ед': 'шт'})\n",
            "(3, {'название': 'сканер', 'цена': 3000.0, 'количество': 1, 'ед': 'шт'})\n"
          ]
        }
      ]
    },
    {
      "cell_type": "code",
      "metadata": {
        "colab": {
          "base_uri": "https://localhost:8080/"
        },
        "id": "cwqZ79SUXNv9",
        "outputId": "045ab5c1-eaab-4fad-efbf-d4307c94569f"
      },
      "source": [
        "new_items = dict.fromkeys(items[0][1])\n",
        "for key in new_items.keys():\n",
        "  temp_list = []\n",
        "  for tup in items:\n",
        "    temp_list.append(tup[1][key])\n",
        "  new_items[key] = temp_list\n",
        "for key in new_items.keys():\n",
        "  print(f\"{key}: {new_items[key]}\")"
      ],
      "execution_count": null,
      "outputs": [
        {
          "output_type": "stream",
          "name": "stdout",
          "text": [
            "название: ['принтер', 'комп', 'сканер']\n",
            "цена: [2000.0, 6000.0, 3000.0]\n",
            "количество: [2, 3, 1]\n",
            "ед: ['шт', 'шт', 'шт']\n"
          ]
        }
      ]
    },
    {
      "cell_type": "code",
      "metadata": {
        "id": "flAHtqbOXw19"
      },
      "source": [
        "# new_items = dict.fromkeys(items[0][1])\n",
        "# for key in new_items.keys():\n",
        "#   temp_list = []\n",
        "#   for tup in items:\n",
        "#     temp_list.append(tup[1][key])\n",
        "#   new_items[key] = temp_list\n",
        "# print(new_items)\n",
        "# print(new_items)\n"
      ],
      "execution_count": null,
      "outputs": []
    }
  ]
}