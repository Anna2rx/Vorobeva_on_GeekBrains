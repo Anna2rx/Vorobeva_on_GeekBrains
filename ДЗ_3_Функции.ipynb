{
  "nbformat": 4,
  "nbformat_minor": 0,
  "metadata": {
    "colab": {
      "name": "ДЗ_3_Функции.ipynb",
      "provenance": [],
      "collapsed_sections": [],
      "authorship_tag": "ABX9TyN/1C4m0NONtEeYdAPWk3jF",
      "include_colab_link": true
    },
    "kernelspec": {
      "name": "python3",
      "display_name": "Python 3"
    },
    "language_info": {
      "name": "python"
    }
  },
  "cells": [
    {
      "cell_type": "markdown",
      "metadata": {
        "id": "view-in-github",
        "colab_type": "text"
      },
      "source": [
        "<a href=\"https://colab.research.google.com/github/Anna2rx/Vorobeva_on_GeekBrains/blob/main/%D0%94%D0%97_3_%D0%A4%D1%83%D0%BD%D0%BA%D1%86%D0%B8%D0%B8.ipynb\" target=\"_parent\"><img src=\"https://colab.research.google.com/assets/colab-badge.svg\" alt=\"Open In Colab\"/></a>"
      ]
    },
    {
      "cell_type": "markdown",
      "metadata": {
        "id": "iuJqW2rTulLr"
      },
      "source": [
        "1. Реализовать функцию, принимающую два числа (позиционные аргументы) и выполняющую их деление. Числа запрашивать у пользователя, предусмотреть обработку ситуации деления на ноль."
      ]
    },
    {
      "cell_type": "code",
      "metadata": {
        "colab": {
          "base_uri": "https://localhost:8080/"
        },
        "id": "9SLUd-h3uiVp",
        "outputId": "7711b53e-13da-42fc-dec6-0a009e956abc"
      },
      "source": [
        "def d_calc(a, b):\n",
        "    try:\n",
        "        return a /b\n",
        "    except ZeroDivisionError:\n",
        "        return 'Делить на ноль нельзя'\n",
        "print(d_calc(float(input('Введите делимое: ')),\n",
        "    float(input('Введите делитель: '))))\n",
        "\n",
        "\n",
        "# def d_calc(*args):\n",
        "#     try:\n",
        "#         return divmod(args[0], args[1])\n",
        "#     except ZeroDivisionError:\n",
        "#         print('Делить на ноль нельзя')\n",
        "# print(d_calc(float(input('Введите делимое: ')),\n",
        "#     float(input('Введите делитель: '))))"
      ],
      "execution_count": 94,
      "outputs": [
        {
          "output_type": "stream",
          "name": "stdout",
          "text": [
            "Введите делимое: 5\n",
            "Введите делитель: 4\n",
            "1.25\n"
          ]
        }
      ]
    },
    {
      "cell_type": "markdown",
      "metadata": {
        "id": "ESLnGMgIunzi"
      },
      "source": [
        "2. Реализовать функцию, принимающую несколько параметров, описывающих данные пользователя: имя, фамилия, год рождения, город проживания, email, телефон. Функция должна принимать параметры как именованные аргументы. Реализовать вывод данных о пользователе одной строкой."
      ]
    },
    {
      "cell_type": "code",
      "metadata": {
        "colab": {
          "base_uri": "https://localhost:8080/"
        },
        "id": "D5WopBEeur36",
        "outputId": "0b0e3009-71a4-4924-8050-85d7c0efbed0"
      },
      "source": [
        "def info(**kwargs):\n",
        "    return kwargs\n",
        "print (info(name = input('Ведите имя: '),\n",
        "    surname = input('Ведите фамилию: '),\n",
        "    date_of_birth = input('Ведите год рождения: '),\n",
        "    city = input('Ведите город проживания: '),\n",
        "    email = input('Ведите email: '),\n",
        "    phone = input('Ведите телефон: ')))"
      ],
      "execution_count": 17,
      "outputs": [
        {
          "output_type": "stream",
          "name": "stdout",
          "text": [
            "Ведите имя: sdfghj\n",
            "Ведите фамилию: sdfgh\n",
            "Ведите год рождения: sdfghjk\n",
            "Ведите город проживания: sdfgh\n",
            "Ведите email: sdfgh\n",
            "Ведите телефон: 23456\n",
            "{'name': 'sdfghj', 'surname': 'sdfgh', 'date_of_birth': 'sdfghjk', 'city': 'sdfgh', 'email': 'sdfgh', 'phone': '23456'}\n"
          ]
        }
      ]
    },
    {
      "cell_type": "markdown",
      "metadata": {
        "id": "zPsABCjNusLh"
      },
      "source": [
        "3. Реализовать функцию my_func(), которая принимает три позиционных аргумента, и возвращает сумму наибольших двух аргументов."
      ]
    },
    {
      "cell_type": "code",
      "metadata": {
        "colab": {
          "base_uri": "https://localhost:8080/"
        },
        "id": "_xIzlbPquvH3",
        "outputId": "93523263-49b7-4e4d-8538-5d1defe488e8"
      },
      "source": [
        "def my_func(a, b, c):\n",
        "    if a > c and b > c:\n",
        "        return a + b\n",
        "    elif a > b and a < c:\n",
        "        return a + c\n",
        "    else:\n",
        "        return b + c \n",
        "print(my_func(int(input('Введите первое число ')), int(input('Введите второе число ')), int(input('Введите третье число '))))"
      ],
      "execution_count": 96,
      "outputs": [
        {
          "output_type": "stream",
          "name": "stdout",
          "text": [
            "Введите первое число 3\n",
            "Введите второе число 4\n",
            "Введите третье число 5\n",
            "9\n"
          ]
        }
      ]
    },
    {
      "cell_type": "markdown",
      "metadata": {
        "id": "-S2m77BNuveK"
      },
      "source": [
        "4. Программа принимает действительное положительное число x и целое отрицательное число y. Необходимо выполнить возведение числа x в степень y. Задание необходимо реализовать в виде функции my_func(x, y). При решении задания необходимо обойтись без встроенной функции возведения числа в степень.\n",
        "Подсказка: попробуйте решить задачу двумя способами. Первый — возведение в степень с помощью оператора **. Второй — более сложная реализация без оператора **, предусматривающая использование цикла."
      ]
    },
    {
      "cell_type": "code",
      "metadata": {
        "colab": {
          "base_uri": "https://localhost:8080/"
        },
        "id": "8RrcHph8u2FX",
        "outputId": "a31a073d-ad84-4004-f8ba-9da8d5f9471d"
      },
      "source": [
        "# решение 1 - возведение в степень с помощью оператора *\n",
        "def my_func(x, y):\n",
        "    for i in range(abs(y)-1):\n",
        "        x *= x\n",
        "    return 1/x\n",
        "print(my_func(x = int(input('Введите действительное положительное число ')),y = int(input('Введите целое отрицательное число '))))"
      ],
      "execution_count": 100,
      "outputs": [
        {
          "output_type": "stream",
          "name": "stdout",
          "text": [
            "Введите действительное положительное число 5\n",
            "Введите целое отрицательное число -2\n",
            "0.04\n"
          ]
        }
      ]
    },
    {
      "cell_type": "code",
      "metadata": {
        "colab": {
          "base_uri": "https://localhost:8080/"
        },
        "id": "8yVlPHFhgCnK",
        "outputId": "72a1d340-6207-430a-8181-8be8ac3b3ea5"
      },
      "source": [
        "# решение 2 - более сложная реализация без оператора *, предусматривающая использование цикла\n",
        "def my_func(x, y):\n",
        "    result = 0\n",
        "    for _ in range((abs(y)-1)):\n",
        "        for _ in range(x):\n",
        "            result += x\n",
        "    return 1/result\n",
        "print(my_func(x = int(input('Введите действительное положительное число ')),y = int(input('Введите целое отрицательное число '))))"
      ],
      "execution_count": 103,
      "outputs": [
        {
          "output_type": "stream",
          "name": "stdout",
          "text": [
            "Введите действительное положительное число 5\n",
            "Введите целое отрицательное число -2\n",
            "0.04\n"
          ]
        }
      ]
    },
    {
      "cell_type": "markdown",
      "metadata": {
        "id": "Ny4t7_tDu2Xc"
      },
      "source": [
        "5. Программа запрашивает у пользователя строку чисел, разделенных пробелом. При нажатии Enter должна выводиться сумма чисел. Пользователь может продолжить ввод чисел, разделенных пробелом и снова нажать Enter. Сумма вновь введенных чисел будет добавляться к уже подсчитанной сумме. Но если вместо числа вводится специальный символ, выполнение программы завершается. Если специальный символ введен после нескольких чисел, то вначале нужно добавить сумму этих чисел к полученной ранее сумме и после этого завершить программу."
      ]
    },
    {
      "cell_type": "code",
      "metadata": {
        "colab": {
          "base_uri": "https://localhost:8080/"
        },
        "id": "B0g-o5qyvATJ",
        "outputId": "bb1922c2-4976-4124-9814-695e1b36612b"
      },
      "source": [
        "def sum_str():\n",
        "  s = None\n",
        "  numbers = sum(map(int, input('Введите строку чисел, разделенных пробелом. Для заревершения выполнения программы введите \"Q\" ').split()))\n",
        "  summ = numbers\n",
        "  while s != 'Q':\n",
        "    s = input('Введите строку чисел, разделенных пробелом. Для заревершения выполнения программы введите \"Q\" ')\n",
        "    numbers = sum(map(int, s.split())) if s != 'Q' else 0\n",
        "    summ += numbers\n",
        "  return summ\n",
        "print(sum_str())\n",
        "\n",
        "# если с рекурсией?\n",
        "# def foo(number):\n",
        "#   number_2 = input('Введите номер ')\n",
        "#   if number_2 == '%':\n",
        "#     return number\n",
        "#   else:  \n",
        "#     return int(number)+foo(int(number_2))  \n",
        "# print(foo(input('Введите номер ')))"
      ],
      "execution_count": 112,
      "outputs": [
        {
          "output_type": "stream",
          "name": "stdout",
          "text": [
            "Введите строку чисел, разделенных пробелом. Для заревершения выполнения программы введите \"Q\" 10 20 20\n",
            "Введите строку чисел, разделенных пробелом. Для заревершения выполнения программы введите \"Q\" 100\n",
            "Введите строку чисел, разделенных пробелом. Для заревершения выполнения программы введите \"Q\" 25 25\n",
            "Введите строку чисел, разделенных пробелом. Для заревершения выполнения программы введите \"Q\" Q\n",
            "200\n"
          ]
        }
      ]
    },
    {
      "cell_type": "markdown",
      "metadata": {
        "id": "1HzJVMjHvAk_"
      },
      "source": [
        "6. Реализовать функцию int_func(), принимающую слово из маленьких латинских букв и возвращающую его же, но с прописной первой буквой. Например, print(int_func(‘text’)) -> Text.\n",
        "Продолжить работу над заданием. В программу должна попадать строка из слов, разделенных пробелом. Каждое слово состоит из латинских букв в нижнем регистре. Сделать вывод исходной строки, но каждое слово должно начинаться с заглавной буквы. Необходимо использовать написанную ранее функцию int_func()."
      ]
    },
    {
      "cell_type": "code",
      "metadata": {
        "colab": {
          "base_uri": "https://localhost:8080/"
        },
        "id": "Ttkxd2OlvFoO",
        "outputId": "a7d162b3-1eab-4946-afd9-a9e67edb6f89"
      },
      "source": [
        "#решение через capitalize\n",
        "def new_text():\n",
        "    user_str = input('Введите строку из слов, разделенных пробелом, так, чтобы каждое слово состояло из латинских букв в нижнем регистре ')\n",
        "    def int_func():\n",
        "        text = [item for item in user_str.split()]\n",
        "        for word in text:\n",
        "            new_word = word.capitalize()\n",
        "            print(new_word, end=' ')\n",
        "    return int_func()\n",
        "new_text()\n"
      ],
      "execution_count": 115,
      "outputs": [
        {
          "output_type": "stream",
          "name": "stdout",
          "text": [
            "Введите строку из слов, разделенных пробелом, так, чтобы каждое слово состояло из латинских букв в нижнем регистре hello world\n",
            "Hello World "
          ]
        }
      ]
    },
    {
      "cell_type": "code",
      "metadata": {
        "colab": {
          "base_uri": "https://localhost:8080/",
          "height": 52
        },
        "id": "bAdXHm9Tp-bQ",
        "outputId": "833ae55f-83ef-4730-e0dc-19a73537bffa"
      },
      "source": [
        "# решение через title\n",
        "\n",
        "def int_func(text):\n",
        "  return text.title()\n",
        "int_func(text = input('Введите строку из слов, разделенных пробелом, так, чтобы каждое слово состояло из латинских букв в нижнем регистре '))"
      ],
      "execution_count": 117,
      "outputs": [
        {
          "name": "stdout",
          "output_type": "stream",
          "text": [
            "Введите строку из слов, разделенных пробелом, так, чтобы каждое слово состояло из латинских букв в нижнем регистре hello world\n"
          ]
        },
        {
          "output_type": "execute_result",
          "data": {
            "application/vnd.google.colaboratory.intrinsic+json": {
              "type": "string"
            },
            "text/plain": [
              "'Hello World'"
            ]
          },
          "metadata": {},
          "execution_count": 117
        }
      ]
    }
  ]
}