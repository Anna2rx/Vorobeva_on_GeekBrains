{
  "nbformat": 4,
  "nbformat_minor": 0,
  "metadata": {
    "colab": {
      "name": "ДЗ_4_Полезные_инструменты.ipynb",
      "provenance": [],
      "collapsed_sections": [],
      "authorship_tag": "ABX9TyOjDOLYAXWfDkY1Fxf7VSJK",
      "include_colab_link": true
    },
    "kernelspec": {
      "name": "python3",
      "display_name": "Python 3"
    },
    "language_info": {
      "name": "python"
    }
  },
  "cells": [
    {
      "cell_type": "markdown",
      "metadata": {
        "id": "view-in-github",
        "colab_type": "text"
      },
      "source": [
        "<a href=\"https://colab.research.google.com/github/Anna2rx/Vorobeva_on_GeekBrains/blob/Python_lesson4/%D0%94%D0%97_4_%D0%9F%D0%BE%D0%BB%D0%B5%D0%B7%D0%BD%D1%8B%D0%B5_%D0%B8%D0%BD%D1%81%D1%82%D1%80%D1%83%D0%BC%D0%B5%D0%BD%D1%82%D1%8B.ipynb\" target=\"_parent\"><img src=\"https://colab.research.google.com/assets/colab-badge.svg\" alt=\"Open In Colab\"/></a>"
      ]
    },
    {
      "cell_type": "markdown",
      "metadata": {
        "id": "Azbpqf9yqtGe"
      },
      "source": [
        "1. Реализовать скрипт, в котором должна быть предусмотрена функция расчета заработной платы сотрудника. В расчете необходимо использовать формулу: (выработка в часах * ставка в час) + премия. Для выполнения расчета для конкретных значений необходимо запускать скрипт с параметрами."
      ]
    },
    {
      "cell_type": "code",
      "metadata": {
        "id": "WQ4UmZMkj_qj",
        "colab": {
          "base_uri": "https://localhost:8080/",
          "height": 231
        },
        "outputId": "b70b8fba-41c6-4957-ae1e-836cb1531911"
      },
      "source": [
        "# нужно затустить через коммандную строку (не в colab)\n",
        "from sys import argv\n",
        "\n",
        "def salary_total(output_hours, rate_hour, bonus):\n",
        "    result = (output_hours * rate_hour) + bonus\n",
        "    return result\n",
        "\n",
        "script_name = argv[0]\n",
        "output_hours, rate_hour, bonus, salary = map(float, argv[1:])\n",
        "\n",
        "salary = salary_total(output_hours, rate_hour, bonus)\n",
        "\n",
        "print(\"Имя скрипта: \", script_name)\n",
        "print(\"Выработка в часах: \", output_hours)\n",
        "print(\"Ставка в час: \", rate_hour)\n",
        "print(\"Размер премии: \", bonus)\n",
        "print(\"Заработная плата сотрудника итого\", salary)"
      ],
      "execution_count": null,
      "outputs": [
        {
          "output_type": "error",
          "ename": "ValueError",
          "evalue": "ignored",
          "traceback": [
            "\u001b[0;31m---------------------------------------------------------------------------\u001b[0m",
            "\u001b[0;31mValueError\u001b[0m                                Traceback (most recent call last)",
            "\u001b[0;32m<ipython-input-30-1416cb81f874>\u001b[0m in \u001b[0;36m<module>\u001b[0;34m()\u001b[0m\n\u001b[1;32m      6\u001b[0m \u001b[0;34m\u001b[0m\u001b[0m\n\u001b[1;32m      7\u001b[0m \u001b[0mscript_name\u001b[0m \u001b[0;34m=\u001b[0m \u001b[0margv\u001b[0m\u001b[0;34m[\u001b[0m\u001b[0;36m0\u001b[0m\u001b[0;34m]\u001b[0m\u001b[0;34m\u001b[0m\u001b[0;34m\u001b[0m\u001b[0m\n\u001b[0;32m----> 8\u001b[0;31m \u001b[0moutput_hours\u001b[0m\u001b[0;34m,\u001b[0m \u001b[0mrate_hour\u001b[0m\u001b[0;34m,\u001b[0m \u001b[0mbonus\u001b[0m\u001b[0;34m,\u001b[0m \u001b[0msalary\u001b[0m \u001b[0;34m=\u001b[0m \u001b[0mmap\u001b[0m\u001b[0;34m(\u001b[0m\u001b[0mfloat\u001b[0m\u001b[0;34m,\u001b[0m \u001b[0margv\u001b[0m\u001b[0;34m[\u001b[0m\u001b[0;36m1\u001b[0m\u001b[0;34m:\u001b[0m\u001b[0;34m]\u001b[0m\u001b[0;34m)\u001b[0m\u001b[0;34m\u001b[0m\u001b[0;34m\u001b[0m\u001b[0m\n\u001b[0m\u001b[1;32m      9\u001b[0m \u001b[0;34m\u001b[0m\u001b[0m\n\u001b[1;32m     10\u001b[0m \u001b[0msalary\u001b[0m \u001b[0;34m=\u001b[0m \u001b[0msalary_total\u001b[0m\u001b[0;34m(\u001b[0m\u001b[0moutput_hours\u001b[0m\u001b[0;34m,\u001b[0m \u001b[0mrate_hour\u001b[0m\u001b[0;34m,\u001b[0m \u001b[0mbonus\u001b[0m\u001b[0;34m)\u001b[0m\u001b[0;34m\u001b[0m\u001b[0;34m\u001b[0m\u001b[0m\n",
            "\u001b[0;31mValueError\u001b[0m: could not convert string to float: '-f'"
          ]
        }
      ]
    },
    {
      "cell_type": "markdown",
      "metadata": {
        "id": "ryYujS7OORz3"
      },
      "source": [
        "2. Представлен список чисел. Необходимо вывести элементы исходного списка, значения которых больше предыдущего элемента.\n",
        "Подсказка: элементы, удовлетворяющие условию, оформить в виде списка. Для формирования списка использовать генератор.\n",
        "Пример исходного списка: [300, 2, 12, 44, 1, 1, 4, 10, 7, 1, 78, 123, 55].\n",
        "Результат: [12, 44, 4, 10, 78, 123]."
      ]
    },
    {
      "cell_type": "code",
      "metadata": {
        "colab": {
          "base_uri": "https://localhost:8080/"
        },
        "id": "0Lr7wXVbOUUs",
        "outputId": "f1f57d11-9fad-4b8f-eba2-278b1ba4a2e0"
      },
      "source": [
        "my_list = [300, 2, 12, 44, 1, 1, 4, 10, 7, 1, 78, 123, 55]\n",
        "new_list = [my_list[i] for i in range(1, len(my_list)) if my_list[i] > my_list[i-1]]\n",
        "print(new_list)\n"
      ],
      "execution_count": null,
      "outputs": [
        {
          "output_type": "stream",
          "name": "stdout",
          "text": [
            "[12, 44, 4, 10, 78, 123]\n"
          ]
        }
      ]
    },
    {
      "cell_type": "markdown",
      "metadata": {
        "id": "SRWonU6ead3u"
      },
      "source": [
        "3. Для чисел в пределах от 20 до 240 найти числа, кратные 20 или 21. Необходимо решить задание в одну строку.\n",
        "Подсказка: использовать функцию range() и генератор."
      ]
    },
    {
      "cell_type": "code",
      "metadata": {
        "colab": {
          "base_uri": "https://localhost:8080/"
        },
        "id": "NCHefNBxahk0",
        "outputId": "f8779549-f1a9-434b-de1b-2eb2615f50aa"
      },
      "source": [
        "list_1 = [el for el in range(20,240) if el%20==0 or el%21==0]\n",
        "print(list_1)"
      ],
      "execution_count": null,
      "outputs": [
        {
          "output_type": "stream",
          "name": "stdout",
          "text": [
            "[20, 21, 40, 42, 60, 63, 80, 84, 100, 105, 120, 126, 140, 147, 160, 168, 180, 189, 200, 210, 220, 231]\n"
          ]
        }
      ]
    },
    {
      "cell_type": "markdown",
      "metadata": {
        "id": "_f6ewh6kalhD"
      },
      "source": [
        "4. Представлен список чисел. Определить элементы списка, не имеющие повторений. Сформировать итоговый массив чисел, соответствующих требованию. Элементы вывести в порядке их следования в исходном списке. Для выполнения задания обязательно использовать генератор.\n",
        "Пример исходного списка: [2, 2, 2, 7, 23, 1, 44, 44, 3, 2, 10, 7, 4, 11].\n",
        "Результат: [23, 1, 3, 10, 4, 11]"
      ]
    },
    {
      "cell_type": "code",
      "metadata": {
        "colab": {
          "base_uri": "https://localhost:8080/"
        },
        "id": "hzxI8xZwanDj",
        "outputId": "e16a2fba-c2e3-4b76-a922-7709bb8625ae"
      },
      "source": [
        "list_given = [2, 2, 2, 7, 23, 1, 44, 44, 3, 2, 10, 7, 4, 11]\n",
        "list_2 = [el for el in list_given if list_given.count(el)==1]\n",
        "print(list_2)"
      ],
      "execution_count": null,
      "outputs": [
        {
          "output_type": "stream",
          "name": "stdout",
          "text": [
            "[23, 1, 3, 10, 4, 11]\n"
          ]
        }
      ]
    },
    {
      "cell_type": "markdown",
      "metadata": {
        "id": "UYp9wNMDanPp"
      },
      "source": [
        "5. Реализовать формирование списка, используя функцию range() и возможности генератора. В список должны войти четные числа от 100 до 1000 (включая границы). Необходимо получить результат вычисления произведения всех элементов списка.\n",
        "Подсказка: использовать функцию reduce()."
      ]
    },
    {
      "cell_type": "code",
      "metadata": {
        "id": "ACLT__exarDS",
        "colab": {
          "base_uri": "https://localhost:8080/"
        },
        "outputId": "21f60038-7598-4bb8-f08d-f4de01a5ed3c"
      },
      "source": [
        "from functools import reduce\n",
        "list_3 = [el for el in range(100,1001) if el%2==0]\n",
        "def my_func(prev_el, el):\n",
        "    return prev_el * el\n",
        "print(reduce(my_func, list_3))"
      ],
      "execution_count": 8,
      "outputs": [
        {
          "output_type": "stream",
          "name": "stdout",
          "text": [
            "11663575674444359823002008139390746528142707402328361705647495301216245827892256323421573853031635648105175857107321864360366071385039128549679496343675509640183219826717346573458260381851930244150425562315833417515264123698581740276921937117732298873364203269398167251131992557619396626253824845619285980851485012131859200089180731617159967796785692496658820266554970195579987101761437467345295469560091019643416890744175485355715583034412689664621367823158491721734017238669568797130683826947437814864890599291484009747561514288528353178159298856645624289518581586947168677504742711452824976368290519747367284033226821443792754573564848344600041433089899538479032717299413920051538113896509134682791976736868238046387230383008696853107977931851651379555533347652931008271572588724198961970056163028633888796670948358527288343719100865852117339478785474064397937004993302565523495403857150309972891503340949896943795594807214141508464167055846685872109706922589562538698747726222566785521882450614299594376824656706451033378744188256788426310583732611392640652066952551824890922829689995132928000000000000000000000000000000000000000000000000000000000000000000000000000000000000000000000000000000000000000000\n"
          ]
        }
      ]
    },
    {
      "cell_type": "code",
      "metadata": {
        "colab": {
          "base_uri": "https://localhost:8080/"
        },
        "id": "w3iZbAKmKAUJ",
        "outputId": "2c78d95f-4447-41d5-9f14-d2e8bfe66eb4"
      },
      "source": [
        "from functools import reduce\n",
        "list_3 = [el for el in range(100,1001) if el%2==0]\n",
        "print(reduce(lambda x, y: x*y, list_3))"
      ],
      "execution_count": 3,
      "outputs": [
        {
          "output_type": "stream",
          "name": "stdout",
          "text": [
            "11663575674444359823002008139390746528142707402328361705647495301216245827892256323421573853031635648105175857107321864360366071385039128549679496343675509640183219826717346573458260381851930244150425562315833417515264123698581740276921937117732298873364203269398167251131992557619396626253824845619285980851485012131859200089180731617159967796785692496658820266554970195579987101761437467345295469560091019643416890744175485355715583034412689664621367823158491721734017238669568797130683826947437814864890599291484009747561514288528353178159298856645624289518581586947168677504742711452824976368290519747367284033226821443792754573564848344600041433089899538479032717299413920051538113896509134682791976736868238046387230383008696853107977931851651379555533347652931008271572588724198961970056163028633888796670948358527288343719100865852117339478785474064397937004993302565523495403857150309972891503340949896943795594807214141508464167055846685872109706922589562538698747726222566785521882450614299594376824656706451033378744188256788426310583732611392640652066952551824890922829689995132928000000000000000000000000000000000000000000000000000000000000000000000000000000000000000000000000000000000000000000\n"
          ]
        }
      ]
    },
    {
      "cell_type": "markdown",
      "metadata": {
        "id": "Ovea6rwnav9s"
      },
      "source": [
        "6. Реализовать два небольших скрипта:\n",
        "а) итератор, генерирующий целые числа, начиная с указанного,\n",
        "б) итератор, повторяющий элементы некоторого списка, определенного заранее.\n",
        "Подсказка: использовать функцию count() и cycle() модуля itertools. Обратите внимание, что создаваемый цикл не должен быть бесконечным. Необходимо предусмотреть условие его завершения.\n",
        "Например, в первом задании выводим целые числа, начиная с 3, а при достижении числа 10 завершаем цикл. Во втором также необходимо предусмотреть условие, при котором повторение элементов списка будет прекращено."
      ]
    },
    {
      "cell_type": "code",
      "metadata": {
        "id": "JbZypXhKa5dE",
        "colab": {
          "base_uri": "https://localhost:8080/"
        },
        "outputId": "d56d4737-aaf9-49e5-b195-bcaf5a746f2c"
      },
      "source": [
        "from itertools import count, cycle\n",
        "#a\n",
        "start = int(input('начало '))\n",
        "stop = int(input('завершение '))\n",
        "for el in count(start):\n",
        "      if el > stop:\n",
        "          break\n",
        "      else:\n",
        "          print(el)"
      ],
      "execution_count": 1,
      "outputs": [
        {
          "output_type": "stream",
          "name": "stdout",
          "text": [
            "начало3\n",
            "завершение10\n",
            "3\n",
            "4\n",
            "5\n",
            "6\n",
            "7\n",
            "8\n",
            "9\n",
            "10\n"
          ]
        }
      ]
    },
    {
      "cell_type": "code",
      "metadata": {
        "colab": {
          "base_uri": "https://localhost:8080/"
        },
        "id": "W26hc3kKMsdh",
        "outputId": "35aa8dbc-2bc1-4234-9b35-3a486fdb10db"
      },
      "source": [
        "# б вариант решения с циклом for\n",
        "c = 0\n",
        "list_4 = list(input('Введите элементы списка через пробел ').split())\n",
        "stop_1 = int(input('Введите число, на котором прекращается повторение элементов '))\n",
        "for el in cycle(list_4):\n",
        "    if c >= stop_1:\n",
        "        break\n",
        "    print(el)\n",
        "    c += 1"
      ],
      "execution_count": 22,
      "outputs": [
        {
          "output_type": "stream",
          "name": "stdout",
          "text": [
            "Введите элементы списка через пробел A B C\n",
            "Введите число, на котором прекращается повторение элементов 10\n",
            "A\n",
            "B\n",
            "C\n",
            "A\n",
            "B\n",
            "C\n",
            "A\n",
            "B\n",
            "C\n",
            "A\n"
          ]
        }
      ]
    },
    {
      "cell_type": "code",
      "metadata": {
        "colab": {
          "base_uri": "https://localhost:8080/"
        },
        "id": "60vO_JFaP9t5",
        "outputId": "abe73f05-61b6-4329-c6bf-bfe84050d854"
      },
      "source": [
        "# б 2 вариант с next\n",
        "s = 0\n",
        "list_5 = list(input('Введите элементы списка через пробел ').split())\n",
        "stop_2 = int(input('Введите число, на котором прекращается повторение элементов '))\n",
        "iter = cycle(list_5)\n",
        "while s < stop_2:\n",
        "  print(next(iter))\n",
        "  s += 1"
      ],
      "execution_count": 23,
      "outputs": [
        {
          "output_type": "stream",
          "name": "stdout",
          "text": [
            "Введите элементы списка через пробел A B C\n",
            "Введите число, на котором прекращается повторение элементов 10\n",
            "A\n",
            "B\n",
            "C\n",
            "A\n",
            "B\n",
            "C\n",
            "A\n",
            "B\n",
            "C\n",
            "A\n"
          ]
        }
      ]
    },
    {
      "cell_type": "markdown",
      "metadata": {
        "id": "2caebM47a5ub"
      },
      "source": [
        "7. Реализовать генератор с помощью функции с ключевым словом yield, создающим очередное значение. При вызове функции должен создаваться объект-генератор. Функция должна вызываться следующим образом: for el in fact(n). Функция отвечает за получение факториала числа, а в цикле необходимо выводить только первые n чисел, начиная с 1! и до n!.\n",
        "Подсказка: факториал числа n — произведение чисел от 1 до n. Например, факториал четырёх 4! = 1 * 2 * 3 * 4 = 24."
      ]
    },
    {
      "cell_type": "code",
      "metadata": {
        "id": "HtsjVVdea9bt",
        "colab": {
          "base_uri": "https://localhost:8080/"
        },
        "outputId": "5c113de2-c011-4c36-ae07-19e7c9f71df1"
      },
      "source": [
        "from math import factorial\n",
        "def fact(n):\n",
        "    result = 1\n",
        "    for el in range(1, n+1):\n",
        "        result *= el\n",
        "        yield result\n",
        "\n",
        "n = int(input())\n",
        "for el in fact(n):\n",
        "    print(el)"
      ],
      "execution_count": 11,
      "outputs": [
        {
          "output_type": "stream",
          "name": "stdout",
          "text": [
            "4\n",
            "1\n",
            "2\n",
            "6\n",
            "24\n"
          ]
        }
      ]
    }
  ]
}